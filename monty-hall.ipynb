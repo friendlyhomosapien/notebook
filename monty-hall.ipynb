{
 "cells": [
  {
   "cell_type": "markdown",
   "id": "artificial-broadcast",
   "metadata": {},
   "source": [
    "# Introduction"
   ]
  },
  {
   "cell_type": "markdown",
   "id": "corporate-husband",
   "metadata": {},
   "source": [
    "In deze Jupyter Notebook onderzoeken we hoe het Monty Hall probleem werkt. Dit is een bekend wiskundig probleem wat heel erg tegen de intuïtie spreekt, maar in werkelijkheid toch invloed heeft."
   ]
  },
  {
   "cell_type": "markdown",
   "id": "charitable-communist",
   "metadata": {},
   "source": [
    "## Definitie van de quiz\n",
    "\n",
    "Stel je voor: je hebt een quiz met drie deuren: deur 1, deur 2 en deur 3. Achter één van de deuren staat een grote prijs, terwijl achter de andere twee deuren niks te vinden is. In eerste instantie kies je een deur, maar daarna opent de quizmaster een deur die gesloten is.\n",
    "\n",
    "Als de quizmaster die gesloten deur heeft geopend, zie je dat daar géén prijs in ligt. De quizmaster geeft je vervolgens de keuze om bij je kist te blijven, of om te switchen naar de andere deur."
   ]
  },
  {
   "cell_type": "code",
   "execution_count": 5,
   "id": "associate-royal",
   "metadata": {},
   "outputs": [],
   "source": [
    "import random\n",
    "def play_scenario(behaviour, amount_of_doors=3):\n",
    "    \"\"\"\n",
    "        Simulate the Monty Hall problem. The `behaviour` argument\n",
    "        is a string that is either \"stay\" or \"switch\".\n",
    "        The function returns a boolean on whether you have\n",
    "        won the game or not.\n",
    "    \"\"\"\n",
    "    prize_door = random.randint(1, amount_of_doors)\n",
    "    \n",
    "    # Your choice doesn't really matter, since it's all random.\n",
    "    your_first_choice = random.randint(1, amount_of_doors)\n",
    "    \n",
    "    # The quizmaster now reveals all doors except for two (your choice and one other door)\n",
    "    # so you make the decision here now.\n",
    "    if your_first_choice == prize_door:\n",
    "        return (behaviour == 'stay')\n",
    "    else:\n",
    "        return (behaviour == 'switch')"
   ]
  },
  {
   "cell_type": "markdown",
   "id": "beneficial-dublin",
   "metadata": {},
   "source": [
    "Met deze functie gaan we simulaties runnen om te controleren of de Monty Hall problem klopt. Heeft het zin om te switchen van deur, of maakt het niet uit omdat het toch twee deuren zijn, dus het is een 50/50 probleem?"
   ]
  },
  {
   "cell_type": "markdown",
   "id": "insured-contents",
   "metadata": {},
   "source": [
    "### Simulaties van de quiz\n",
    "\n",
    "In dit stuk gaan we de quizzes simuleren. We runnen hiervoor tienduizend simulaties, maar die zijn ook aan te passen hieronder:"
   ]
  },
  {
   "cell_type": "code",
   "execution_count": 18,
   "id": "configured-representation",
   "metadata": {},
   "outputs": [],
   "source": [
    "SIMULATIONS = 100000\n",
    "def run_simulation(amount_of_doors):\n",
    "    \"\"\"\n",
    "        Execute the Monty Hall problem many, many times to get an estimation of the distribution of odds.\n",
    "    \"\"\"\n",
    "    switch, stay = 0, 0\n",
    "    \n",
    "    for _ in range(SIMULATIONS):\n",
    "        if play_scenario(\"switch\", amount_of_doors):\n",
    "            # We switched and won!\n",
    "            switch += 1\n",
    "        else:\n",
    "            # It would've been better to stay.\n",
    "            stay += 1\n",
    "    return (\n",
    "        switch / SIMULATIONS,\n",
    "        stay   / SIMULATIONS\n",
    "    )"
   ]
  },
  {
   "cell_type": "markdown",
   "id": "distinct-charm",
   "metadata": {},
   "source": [
    "#### Monty Hall Probleem met 3 deuren\n",
    "\n",
    "We voeren de test uit met 3 deuren in totaal, en bekijken het resultaat."
   ]
  },
  {
   "cell_type": "code",
   "execution_count": 19,
   "id": "satisfactory-swing",
   "metadata": {},
   "outputs": [
    {
     "name": "stdout",
     "output_type": "stream",
     "text": [
      "66.849%\t of the time, it is better to switch.\n",
      "33.151%\t of the time, it is better to stay.\n"
     ]
    }
   ],
   "source": [
    "switch, stay = run_simulation(3)\n",
    "\n",
    "print(str(100*switch)[:6] + \"%\\t of the time, it is better to switch.\")\n",
    "print(str(100*stay)[:6] + \"%\\t of the time, it is better to stay.\")"
   ]
  },
  {
   "cell_type": "markdown",
   "id": "together-income",
   "metadata": {},
   "source": [
    "### Monty Hall Probleem met 100 deuren\n",
    "\n",
    "Als we het experiment uitvoeren met 100 deuren, dan zie je algauw hoeveel verschil het maakt. Een simulatie van 100 deuren geeft ook een hoop meer intuïtie over hoe het Monty Hall Probleem werkt."
   ]
  },
  {
   "cell_type": "code",
   "execution_count": 20,
   "id": "desperate-stephen",
   "metadata": {},
   "outputs": [
    {
     "name": "stdout",
     "output_type": "stream",
     "text": [
      "99.032%\t of the time, it is better to switch.\n",
      "0.968%\t of the time, it is better to stay.\n"
     ]
    }
   ],
   "source": [
    "switch, stay = run_simulation(100)\n",
    "\n",
    "print(str(100*switch)[:6] + \"%\\t of the time, it is better to switch.\")\n",
    "print(str(100*stay)[:6] + \"%\\t of the time, it is better to stay.\")"
   ]
  }
 ],
 "metadata": {
  "kernelspec": {
   "display_name": "Python 3",
   "language": "python",
   "name": "python3"
  },
  "language_info": {
   "codemirror_mode": {
    "name": "ipython",
    "version": 3
   },
   "file_extension": ".py",
   "mimetype": "text/x-python",
   "name": "python",
   "nbconvert_exporter": "python",
   "pygments_lexer": "ipython3",
   "version": "3.9.1"
  },
  "metadata": {
   "interpreter": {
    "hash": "63fd5069d213b44bf678585dea6b12cceca9941eaf7f819626cde1f2670de90d"
   }
  }
 },
 "nbformat": 4,
 "nbformat_minor": 5
}
